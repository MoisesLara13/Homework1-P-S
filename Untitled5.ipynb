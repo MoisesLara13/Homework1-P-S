{
 "cells": [
  {
   "cell_type": "code",
   "execution_count": 2,
   "metadata": {
    "scrolled": true
   },
   "outputs": [
    {
     "name": "stdout",
     "output_type": "stream",
     "text": [
      "What is your name? luis\n",
      "Hi, luis\n",
      "How old are you? 19\n",
      "You are 19? Really?\n"
     ]
    }
   ],
   "source": [
    "print(\"What is your name? \", end='')\n",
    "name=input()\n",
    "print(f\"Hi, {name}\")\n",
    "age=int(input(\"How old are you? \"))\n",
    "print(f\"You are {age}? Really?\")"
   ]
  },
  {
   "cell_type": "markdown",
   "metadata": {},
   "source": [
    "## SAMPLE MEAN \n",
    "This program works as follows:\n",
    "We need to put the age of each student when it request. After, the last code sum all the ages and ir divides by 3, that is the total number of the students, that's how we get the sample mean."
   ]
  },
  {
   "cell_type": "code",
   "execution_count": 7,
   "metadata": {},
   "outputs": [
    {
     "name": "stdout",
     "output_type": "stream",
     "text": [
      "How old are the first student? 45\n",
      "How old are the second student? 23\n",
      "How old are the third student? 23\n",
      "The sample mean of those ages are 30.333333333333332.\n"
     ]
    }
   ],
   "source": [
    "age1=int(input(\"How old are the first student? \"))\n",
    "age2=int(input(\"How old are the second student? \"))\n",
    "age3=int(input(\"How old are the third student? \"))\n",
    "print(f\"The sample mean of those ages are {(age1+age2+age3)/3}.\")"
   ]
  },
  {
   "cell_type": "code",
   "execution_count": null,
   "metadata": {},
   "outputs": [],
   "source": []
  }
 ],
 "metadata": {
  "kernelspec": {
   "display_name": "Python 3",
   "language": "python",
   "name": "python3"
  },
  "language_info": {
   "codemirror_mode": {
    "name": "ipython",
    "version": 3
   },
   "file_extension": ".py",
   "mimetype": "text/x-python",
   "name": "python",
   "nbconvert_exporter": "python",
   "pygments_lexer": "ipython3",
   "version": "3.7.4"
  }
 },
 "nbformat": 4,
 "nbformat_minor": 2
}
