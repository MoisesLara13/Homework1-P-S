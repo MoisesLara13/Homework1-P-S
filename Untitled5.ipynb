{
 "cells": [
  {
   "cell_type": "markdown",
   "metadata": {},
   "source": [
    "## Practice of names"
   ]
  },
  {
   "cell_type": "code",
   "execution_count": 58,
   "metadata": {},
   "outputs": [
    {
     "name": "stdout",
     "output_type": "stream",
     "text": [
      "How many names do you want to introduce?3\n",
      "Introduce the names:Carlos \n",
      "Introduce the names:Gabriela\n",
      "Introduce the names:Andres\n",
      "These are the names:\n",
      "Carlos  Gabriela Andres \n",
      "What position do you want?2\n",
      "Andres\n"
     ]
    }
   ],
   "source": [
    "values=int(input(\"How many names do you want to introduce?\"))#to know how many names I'm gonna use\n",
    "names=[] #declare a list\n",
    "\n",
    "for i in range(0,values):\n",
    "    x=str(input(\"Introduce the names:\"))\n",
    "    names.append(x)\n",
    "        \n",
    "print(\"These are the names:\")\n",
    "\n",
    "for name in names:\n",
    "    print(name, end = ' ')# the list of names in horizontal way \n",
    "\n",
    "position_name=int(input(\"\\nWhat position do you want?\"))\n",
    "if position_name < values:\n",
    "    print(names[position_name])#show the name with the position selected\n",
    "else:\n",
    "    print(\"The position is not valid please choose another one\")\n",
    "\n"
   ]
  }
 ],
 "metadata": {
  "kernelspec": {
   "display_name": "Python 3",
   "language": "python",
   "name": "python3"
  },
  "language_info": {
   "codemirror_mode": {
    "name": "ipython",
    "version": 3
   },
   "file_extension": ".py",
   "mimetype": "text/x-python",
   "name": "python",
   "nbconvert_exporter": "python",
   "pygments_lexer": "ipython3",
   "version": "3.7.4"
  }
 },
 "nbformat": 4,
 "nbformat_minor": 2
}
