{
 "cells": [
  {
   "cell_type": "markdown",
   "metadata": {},
   "source": [
    "## Program that calculate sample mean, standard desviation and moda\n",
    "Lara Rubio Moises and Mendez Gonzalez Luis Gerardo MEC-3C"
   ]
  },
  {
   "cell_type": "code",
   "execution_count": 5,
   "metadata": {},
   "outputs": [
    {
     "name": "stdout",
     "output_type": "stream",
     "text": [
      "Choose and option: Sample mean press 1), Standar desviation press 2) Moda press 3): 1\n",
      "Capture the number of data that you want? 4\n",
      "Introduce the values: 1\n",
      "Introduce the values: 2\n",
      "Introduce the values: 3\n",
      "Introduce the values: 4\n",
      "The sample mean is: 2.5\n"
     ]
    }
   ],
   "source": [
    "Sum_x=0\n",
    "dx=[]\n",
    "S_mean=0\n",
    "S_variance=0\n",
    "Std_desviation=0\n",
    "o=int(input(\"Choose and option: Sample mean press 1), Standar desviation press 2) Moda press 3): \"))\n",
    "\n",
    "if o==1:\n",
    "    n=int(input(\"Capture the number of data that you want? \"))\n",
    "    for i in range(0,n):\n",
    "        x=int(input(\"Introduce the values: \")) \n",
    "        dx.append(x)\n",
    "        Sum_x+=x\n",
    "        S_mean=Sum_x/n\n",
    "    print(\"The sample mean is:\",S_mean)\n",
    "    \n",
    "elif o==2:\n",
    "    n=int(input(\"Capture the number of data that you want? \"))\n",
    "    for i in range(0,n):\n",
    "        x=int(input(\"Introduce the values: \")) \n",
    "        dx.append(x)\n",
    "        Sum_x+=x\n",
    "        S_mean=Sum_x/n\n",
    "        S_variance+=(((x- S_mean)**2)/(n-1))\n",
    "        #S_variance1=S_variance/(n-1)\n",
    "        Std_desviation=S_variance**(0.5)\n",
    "    print(\"The standard desviatoin is:\",Std_desviation)\n",
    "\n",
    "elif o==3:\n",
    "    n=int(input(\"Capture the number of data that you want? \"))\n",
    "    for i in range(0,n):\n",
    "        x=int(input(f\"digitize the data {i+1}: \"))\n",
    "        dx.append(x)\n",
    "        same=0\n",
    "    for i in dx:\n",
    "        a=dx.count(i)\n",
    "        if a>same:\n",
    "            same=a\n",
    "    mod=[]\n",
    "    for i in dx:\n",
    "        a=dx.count(i)\n",
    "        if a ==same and i not in mod:\n",
    "            mod.append(i)\n",
    "    print(\"The moda is:\",mod)\n",
    "else:\n",
    "    o+1\n",
    "    print(\"Choose the correct answer\")\n",
    "        \n",
    "        \n",
    "    \n",
    "    \n",
    "    \n",
    "    \n",
    "    "
   ]
  },
  {
   "cell_type": "code",
   "execution_count": null,
   "metadata": {},
   "outputs": [],
   "source": []
  }
 ],
 "metadata": {
  "kernelspec": {
   "display_name": "Python 3",
   "language": "python",
   "name": "python3"
  },
  "language_info": {
   "codemirror_mode": {
    "name": "ipython",
    "version": 3
   },
   "file_extension": ".py",
   "mimetype": "text/x-python",
   "name": "python",
   "nbconvert_exporter": "python",
   "pygments_lexer": "ipython3",
   "version": "3.7.4"
  }
 },
 "nbformat": 4,
 "nbformat_minor": 2
}
