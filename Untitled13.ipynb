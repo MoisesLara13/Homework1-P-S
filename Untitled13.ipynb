{
 "cells": [
  {
   "cell_type": "markdown",
   "metadata": {},
   "source": [
    "## TRIMMED MEAN\n",
    "MENDEZ GONZALEZ LUIS GERARDO\n",
    "LARA RUBIO MOISES"
   ]
  },
  {
   "cell_type": "code",
   "execution_count": 8,
   "metadata": {},
   "outputs": [
    {
     "name": "stdout",
     "output_type": "stream",
     "text": [
      "How many data are you going to use?: 20\n",
      "Introduce values: 123\n",
      "Introduce values: 112\n",
      "Introduce values: 125\n",
      "Introduce values: 1232314\n",
      "Introduce values: 12312213\n",
      "Introduce values: 12424123\n",
      "Introduce values: 12341\n",
      "Introduce values: 21321423\n",
      "Introduce values: 254346346\n",
      "Introduce values: 4554364\n",
      "Introduce values: 235354353\n",
      "Introduce values: 3245435534\n",
      "Introduce values: 353454\n",
      "Introduce values: 3245324\n",
      "Introduce values: 2346574\n",
      "Introduce values: 345423\n",
      "Introduce values: 32534\n",
      "Introduce values: 2353245\n",
      "Introduce values: 2435432554243235\n",
      "Introduce values: 234542345453264632\n",
      "the list is:  [112.0, 123.0, 125.0, 12341.0, 32534.0, 345423.0, 353454.0, 1232314.0, 2346574.0, 2353245.0, 3245324.0, 4554364.0, 12312213.0, 12424123.0, 21321423.0, 235354353.0, 254346346.0, 3245435534.0, 2435432554243235.0, 2.3454234545326464e+17]\n",
      "Write the percent: 30\n",
      "Numbers trimmed:  [353454.0, 1232314.0, 2346574.0, 2353245.0, 3245324.0, 4554364.0, 12312213.0, 12424123.0]\n",
      "The trimmed mean:  4852701.375\n"
     ]
    }
   ],
   "source": [
    "n=int(input(\"How many data are you going to use?: \"))#First, we ask for the numbers of values we are going to use\n",
    "listt=[]\n",
    "for i in range (0,n):#Here we mark de range, n is the numbers of values and begins in 0\n",
    "    q=float(input(f\"Introduce values: \"))#Now, we are gonna writte each value\n",
    "    listt.append(q)\n",
    "listt=sorted(listt)#With this, we organizate the values\n",
    "print(\"the list is: \",listt)\n",
    "y=int(input(\"Write the percent: \"))#Now, the percent we need to writte here\n",
    "yy=(y/100)*n #This is the operation to obtain the percent\n",
    "r=listt[int(yy):-int(yy)]\n",
    "print(\"Numbers trimmed: \", r)#We obtain the numbers trimmed\n",
    "print(\"The trimmed mean: \",sum(r)/len(r))#And last one, we have the mean of the numbers trimmed"
   ]
  },
  {
   "cell_type": "code",
   "execution_count": null,
   "metadata": {},
   "outputs": [],
   "source": []
  }
 ],
 "metadata": {
  "kernelspec": {
   "display_name": "Python 3",
   "language": "python",
   "name": "python3"
  },
  "language_info": {
   "codemirror_mode": {
    "name": "ipython",
    "version": 3
   },
   "file_extension": ".py",
   "mimetype": "text/x-python",
   "name": "python",
   "nbconvert_exporter": "python",
   "pygments_lexer": "ipython3",
   "version": "3.7.4"
  }
 },
 "nbformat": 4,
 "nbformat_minor": 2
}
