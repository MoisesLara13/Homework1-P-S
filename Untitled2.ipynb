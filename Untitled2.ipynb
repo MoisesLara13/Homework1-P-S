{
 "cells": [
  {
   "cell_type": "markdown",
   "metadata": {},
   "source": [
    "## Homework #1\n"
   ]
  },
  {
   "cell_type": "markdown",
   "metadata": {},
   "source": [
    "## Exercise 1 Print(\"Text\")\n",
    "  For this first exercise we are going to use the print function in order to show text when you are running the code. You only need to type the word print(\"Text\"), Something important is that you should write the text between double-quotes.\n",
    "\n"
   ]
  },
  {
   "cell_type": "code",
   "execution_count": 2,
   "metadata": {},
   "outputs": [
    {
     "name": "stdout",
     "output_type": "stream",
     "text": [
      "This is the homework number one\n",
      "What´s up?\n",
      "UT of Altamira\n",
      "We are the champions\n"
     ]
    }
   ],
   "source": [
    "print(\"This is the homework number one\")\n",
    "print(\"What´s up?\")\n",
    "print(\"UT of Altamira\")\n",
    "print(\"We are the champions\")"
   ]
  },
  {
   "cell_type": "markdown",
   "metadata": {},
   "source": [
    "## Exercise 2 Comments and Pround Characters\n",
    "  When you are making a program is very importa because they are used for make some notes about what are you doing in your code and also they are used for disable parts of yor program temporarily. To create comments you only need to add a # before to write the text of the comment."
   ]
  },
  {
   "cell_type": "code",
   "execution_count": 34,
   "metadata": {},
   "outputs": [
    {
     "name": "stdout",
     "output_type": "stream",
     "text": [
      "Welcome to the code\n"
     ]
    }
   ],
   "source": [
    "#Remember that e = 2.7118\n",
    "#This function needs a value previously storage.\n",
    "print(\"Welcome to the code\") #This is like a introduction to the user"
   ]
  },
  {
   "cell_type": "markdown",
   "metadata": {},
   "source": [
    "## Exercise 3 Numbers and Math\n",
    "The purpose of this excersie is to show us some of the most common math symbols for operations within our formulas etc, for example + plus, - minus, / slash,* asterisk, % percent, < less-than, > greater-than, <= less-than-equal, >= greater-than-equal.\n"
   ]
  },
  {
   "cell_type": "code",
   "execution_count": 27,
   "metadata": {},
   "outputs": [
    {
     "name": "stdout",
     "output_type": "stream",
     "text": [
      "Do you know how many is 12345 + 54321 and divided by 2?\n",
      "The answer is: 33333.0\n",
      "\n",
      "What is the sum of the values obtained multiplied by 4?\n",
      "-20\n",
      "\n",
      "4 is > thant 7 and 9 is < 15?\n",
      "False\n",
      "True\n",
      "\n",
      "2 less-than-equal 6 and 34 greather-than-equal 34?\n",
      "True\n",
      "True\n",
      "\n",
      "How much is 100/30 reisude\n",
      "10\n"
     ]
    }
   ],
   "source": [
    "print(\"Do you know how many is 12345 + 54321 and divided by 2?\")\n",
    "print(\"The answer is:\", (12345+54321)/2)\n",
    "\n",
    "print(\"\\nWhat is the sum of the values obtained multiplied by 4?\")\n",
    "print((2+5-6-7-8+9)*4)\n",
    "\n",
    "print(\"\\n4 is > thant 7 and 9 is < 15?\")\n",
    "print(4>7)\n",
    "print(9<15)\n",
    "\n",
    "print(\"\\n2 less-than-equal 6 and 34 greather-than-equal 34?\")\n",
    "print(2<=6)\n",
    "print(34>=34)\n",
    "\n",
    "print(\"\\nHow much is 100/30 reisude\")\n",
    "print(100%30)\n",
    "\n"
   ]
  },
  {
   "cell_type": "markdown",
   "metadata": {},
   "source": [
    "## Exercise 4 Variables and names \n",
    "In programming languages a vairable is a name given by you for something, it could be a value, a formula etc, and is used to read more easily the code and save time in some particular cases."
   ]
  },
  {
   "cell_type": "code",
   "execution_count": 33,
   "metadata": {},
   "outputs": [
    {
     "name": "stdout",
     "output_type": "stream",
     "text": [
      "How many bottles are there? 650\n",
      "If there is 4 machines and produce 650 bottles each one a day. How many bottles do we have at the end pf the day?\n",
      "The answer is 2600\n"
     ]
    }
   ],
   "source": [
    "Bottles = 650\n",
    "Machines = 4\n",
    "print(\"How many bottles are there?\", Bottles)\n",
    "print(\"If there is 4 machines and produce 650 bottles each one a day. How many bottles do we have at the end pf the day?\")\n",
    "print(\"The answer is\", Machines*Bottles)\n"
   ]
  },
  {
   "cell_type": "markdown",
   "metadata": {},
   "source": [
    "## Exercise 5 More Variables and Printing\n",
    "For this exercise we are going to learn about ”format string.” ” Every time you put \" (double-quotes) around a piece of text you have been making a string. A string is how you make something that your program might give to a human. You print strings,\n",
    "save strings to files, send strings to web servers, and many other things. In this exercise you will learn how to make strings that have variables embedded in them. You embed variables inside a string by using a special {} sequence and then put the\n",
    "variable you want inside the {} characters. You also must start the string with the letter f for ”format”,\n",
    "as in f\"Hello {somevar}\" "
   ]
  },
  {
   "cell_type": "code",
   "execution_count": 42,
   "metadata": {
    "scrolled": true
   },
   "outputs": [
    {
     "name": "stdout",
     "output_type": "stream",
     "text": [
      "I have a laptop that is a Lenovo Legion Y-520\n",
      "It cost me more less 24000 mexican pesos\n",
      "It has a weight of 4 kg\n",
      "has a beatuful Black color\n",
      "and its battery time is around 6 hours\n"
     ]
    }
   ],
   "source": [
    "my_PC = 'Lenovo Legion Y-520'\n",
    "the_price = 24000\n",
    "the_weight = '4 kg'\n",
    "PC_color = 'Black'\n",
    "PC_battery = '6 hours'\n",
    "\n",
    "print(f\"I have a laptop that is a {my_PC}\")\n",
    "print (f\"It cost me more less {the_price} mexican pesos\")\n",
    "print(f\"It has a weight of {the_weight}\")\n",
    "print(f\"has a beatuful {PC_color} color\")\n",
    "print(f\"and its battery time is around {PC_battery}\")"
   ]
  },
  {
   "cell_type": "markdown",
   "metadata": {},
   "source": [
    "## Exercise 6\n",
    "Now we are going to create groups of variables with complex strings for see what they do. First of all, a string normally is a bit of text that you want to show. Python knows you want something be a string when you use double-quotes or single-quotes around the text."
   ]
  },
  {
   "cell_type": "code",
   "execution_count": 28,
   "metadata": {
    "scrolled": true
   },
   "outputs": [
    {
     "name": "stdout",
     "output_type": "stream",
     "text": [
      "{'There are 1000000 types of derivates that you need to do, dude.'}\n",
      "{\"those who know binary and those who don't.\"}\n",
      "I said: There are 1000000 types of derivates that you need to do, dude.\n",
      "I also said:those who know binary and those who don't.\n"
     ]
    }
   ],
   "source": [
    "types = 1000000\n",
    "x = f\"There are {types} types of derivates that you need to do, dude.\"\n",
    "\n",
    "binary = \"binary\"\n",
    "do_not = \"don't\"\n",
    "y = f\"those who know {binary} and those who {do_not}.\"\n",
    "\n",
    "print({x})\n",
    "print({y})\n",
    "\n",
    "print( f\"I said: {x}\")\n",
    "print( f\"I also said:{y}\")\n",
    "\n"
   ]
  },
  {
   "cell_type": "markdown",
   "metadata": {},
   "source": [
    "## Exercise 7\n",
    "Now we will see about more printing. We are going to do a bunch of exercises."
   ]
  },
  {
   "cell_type": "code",
   "execution_count": 1,
   "metadata": {},
   "outputs": [
    {
     "name": "stdout",
     "output_type": "stream",
     "text": [
      "You are the best\n",
      "her face is beautiful as a flower\n",
      "idk what I'm doing\n",
      "I love u I love u I love u I love u I love u I love u I love u I love u \n",
      "mavi ,  my gf\n",
      "I'm mandilon, I know\n"
     ]
    }
   ],
   "source": [
    "print(\"You are the best\")\n",
    "print(\"her face is beautiful as a {}\".format('flower'))\n",
    "print(\"idk what I'm doing\")\n",
    "print(\"I love u \"*8) \n",
    "\n",
    "end1=\"m\"\n",
    "end2=\"a\"\n",
    "end3=\"v\"\n",
    "end4=\"i\"\n",
    "print(end1+end2+end3+end4, \",  my gf\")\n",
    "print(\"I'm mandilon, I know\")"
   ]
  },
  {
   "cell_type": "markdown",
   "metadata": {},
   "source": [
    "## Exercise 8\n",
    "Now is more difficult, well, these printings look complex but only we are going to write some comments. "
   ]
  },
  {
   "cell_type": "code",
   "execution_count": 3,
   "metadata": {},
   "outputs": [
    {
     "name": "stdout",
     "output_type": "stream",
     "text": [
      "2 4 6 8\n",
      "dos cuatro seis ocho\n",
      "True False True True\n",
      "{} {} {} {} {} {} {} {} {} {} {} {} {} {} {} {}\n",
      "que te pasa calabaza lol\n"
     ]
    }
   ],
   "source": [
    "formatter= \"{} {} {} {}\"\n",
    "\n",
    "print(formatter.format(2,4,6,8))\n",
    "print(formatter.format(\"dos\",\"cuatro\",\"seis\",\"ocho\"))\n",
    "print(formatter.format(True, False, True, True))\n",
    "print(formatter.format(formatter, formatter, formatter, formatter))\n",
    "print(formatter.format(\"que\",\"te pasa\",\"calabaza\",\"lol\"))"
   ]
  },
  {
   "cell_type": "markdown",
   "metadata": {},
   "source": [
    "## Exercise 9\n",
    "In this exercise we will apply some exercises that we already do. We will use colors and numbers.\n"
   ]
  },
  {
   "cell_type": "code",
   "execution_count": 4,
   "metadata": {},
   "outputs": [
    {
     "name": "stdout",
     "output_type": "stream",
     "text": [
      "These are numbers: one, two, tree\n",
      "These are colors: blue, orange, red\n"
     ]
    }
   ],
   "source": [
    "numbers=\"one, two, tree\"\n",
    "colors= \"blue, orange, red\"\n",
    "\n",
    "print(\"These are numbers:\", numbers)\n",
    "print(\"These are colors:\", colors)"
   ]
  },
  {
   "cell_type": "markdown",
   "metadata": {},
   "source": [
    "## Exercise 10\n",
    "We are going to use spaces, types of spaces. You use them with \\ (blacklash)."
   ]
  },
  {
   "cell_type": "code",
   "execution_count": 5,
   "metadata": {},
   "outputs": [
    {
     "name": "stdout",
     "output_type": "stream",
     "text": [
      "\tIm becoming crazy\n",
      "I don't \n",
      "know \n",
      "why \n",
      "but \n",
      "I \\ am \\ a cat\n",
      "\n",
      "I will mention some colors, idk why:\n",
      "    \t*black\n",
      "    \t*white\n",
      "    \t*blue\n",
      "    \n"
     ]
    }
   ],
   "source": [
    "black=\"\\tIm becoming crazy\"\n",
    "white=\"I don't \\nknow \\nwhy \\nbut \"\n",
    "blue= \"I \\\\ am \\\\ a cat\"\n",
    "\n",
    "yellow= \"\"\"\n",
    "I will mention some colors, idk why:\n",
    "    \\t*black\n",
    "    \\t*white\n",
    "    \\t*blue\n",
    "    \"\"\"\n",
    "print(black)\n",
    "print(white)\n",
    "print(blue)\n",
    "print(yellow)"
   ]
  }
 ],
 "metadata": {
  "kernelspec": {
   "display_name": "Python 3",
   "language": "python",
   "name": "python3"
  },
  "language_info": {
   "codemirror_mode": {
    "name": "ipython",
    "version": 3
   },
   "file_extension": ".py",
   "mimetype": "text/x-python",
   "name": "python",
   "nbconvert_exporter": "python",
   "pygments_lexer": "ipython3",
   "version": "3.7.4"
  }
 },
 "nbformat": 4,
 "nbformat_minor": 2
}
